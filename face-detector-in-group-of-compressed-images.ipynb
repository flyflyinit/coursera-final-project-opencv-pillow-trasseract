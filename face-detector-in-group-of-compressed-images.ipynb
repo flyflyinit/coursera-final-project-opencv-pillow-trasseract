{
 "cells": [
  {
   "cell_type": "code",
   "execution_count": null,
   "metadata": {},
   "outputs": [],
   "source": [
    "import zipfile\n",
    "\n",
    "from PIL import Image,ImageDraw\n",
    "import pytesseract\n",
    "import cv2 as cv2\n",
    "import numpy as np\n",
    "face_cascade = cv2.CascadeClassifier('haarcascade_frontalface_default.xml')\n",
    "faces_images = []\n",
    "\n",
    "word_index = \"pizza\"\n",
    "with zipfile.PyZipFile(file='someImages.zip') as zipp:\n",
    "    for i in zipp.infolist():\n",
    "        with zipp.open(i) as file:\n",
    "            image = Image.open(file)\n",
    "            print(f\"\\n\\n\\nstarting looking for the word {word_index} in {i.filename} newspaper... \")\n",
    "            text = pytesseract.image_to_string(image)\n",
    "            words = text.split()\n",
    "            lowerwords = [x.lower() for x in words]\n",
    "            if word_index in lowerwords:\n",
    "                print(f\"{word_index} exists\")\n",
    "                print(f\"starting looking for faces in {i.filename} newspaper...\")\n",
    "                image.save(\"image_l.png\")\n",
    "                image_cv = cv2.imread('image_l.png')\n",
    "                gray = cv2.cvtColor(image_cv, cv2.COLOR_BGR2GRAY)\n",
    "\n",
    "                faces = face_cascade.detectMultiScale(gray,1.2,3)\n",
    "                pimage = Image.open(file)\n",
    "                drawing=ImageDraw.Draw(pimage)\n",
    "                tmp_faces = []\n",
    "                for x,y,w,h in faces:\n",
    "                    drawing.rectangle((x,y,x+w,y+h), outline=\"red\")\n",
    "                    face_image=pimage.crop((x,y,x+w,y+h))\n",
    "                    tmp_faces.append(face_image)\n",
    "\n",
    "                faces_images.append(tmp_faces)                \n",
    "                \n",
    "                for newspaper in faces_images:\n",
    "                    total_width = 0\n",
    "                    total_height = []\n",
    "                    for img in newspaper:\n",
    "                        total_height.append(int(img.height))\n",
    "                        total_width = total_width + img.width \n",
    "\n",
    "                    bigimage = Image.new('RGB', (total_width, max(total_height)))\n",
    "                    i = 0\n",
    "                    for img in newspaper:\n",
    "                        bigimage.paste(img, (i, 0))\n",
    "                        #bigimage.paste(im2, (im1.width, 0))\n",
    "                        i = i + img.width\n",
    "                    display(bigimage)\n",
    "\n",
    "            else:\n",
    "                print(f\"{word_index} doesn't exist in {i.filename}.\")"
   ]
  }
 ],
 "metadata": {
  "kernelspec": {
   "display_name": "Python 3",
   "language": "python",
   "name": "python3"
  },
  "language_info": {
   "codemirror_mode": {
    "name": "ipython",
    "version": 3
   },
   "file_extension": ".py",
   "mimetype": "text/x-python",
   "name": "python",
   "nbconvert_exporter": "python",
   "pygments_lexer": "ipython3",
   "version": "3.7.7"
  }
 },
 "nbformat": 4,
 "nbformat_minor": 2
}
